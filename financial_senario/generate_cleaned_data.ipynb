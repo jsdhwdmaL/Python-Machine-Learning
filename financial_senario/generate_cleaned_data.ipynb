{
 "cells": [
  {
   "cell_type": "code",
   "execution_count": 1,
   "id": "30875ff2-b8a4-4486-829b-0611986881fb",
   "metadata": {},
   "outputs": [],
   "source": [
    "import numpy as np\n",
    "import pandas as pd\n",
    "import matplotlib.pyplot as plt\n",
    "import seaborn as sns\n",
    "import warnings\n",
    "warnings.filterwarnings('ignore')\n",
    "%matplotlib inline"
   ]
  },
  {
   "cell_type": "code",
   "execution_count": 2,
   "id": "22f96147-7a0b-44f7-be85-2e83e88841db",
   "metadata": {},
   "outputs": [],
   "source": [
    "DF=pd.read_csv('Columbia_CLI.csv')\n",
    "#DF_edited = pd.read_csv('/Users/liliyang/Desktop/Columbia Classes/Big Data/Datasets/Model_Ready_CLI.csv')"
   ]
  },
  {
   "cell_type": "code",
   "execution_count": 3,
   "id": "3d49dd97-fe18-4b16-b3b7-6aeb43db601f",
   "metadata": {},
   "outputs": [
    {
     "data": {
      "text/plain": [
       "(999, 70)"
      ]
     },
     "execution_count": 3,
     "metadata": {},
     "output_type": "execute_result"
    }
   ],
   "source": [
    "DF.shape"
   ]
  },
  {
   "cell_type": "code",
   "execution_count": 4,
   "id": "db63a5bc-ea7a-44d8-9ab0-c5b766fbd917",
   "metadata": {},
   "outputs": [
    {
     "data": {
      "text/html": [
       "<div>\n",
       "<style scoped>\n",
       "    .dataframe tbody tr th:only-of-type {\n",
       "        vertical-align: middle;\n",
       "    }\n",
       "\n",
       "    .dataframe tbody tr th {\n",
       "        vertical-align: top;\n",
       "    }\n",
       "\n",
       "    .dataframe thead th {\n",
       "        text-align: right;\n",
       "    }\n",
       "</style>\n",
       "<table border=\"1\" class=\"dataframe\">\n",
       "  <thead>\n",
       "    <tr style=\"text-align: right;\">\n",
       "      <th></th>\n",
       "      <th>Total</th>\n",
       "      <th>Percent</th>\n",
       "    </tr>\n",
       "  </thead>\n",
       "  <tbody>\n",
       "    <tr>\n",
       "      <th>inq_last_12m</th>\n",
       "      <td>999</td>\n",
       "      <td>100.000000</td>\n",
       "    </tr>\n",
       "    <tr>\n",
       "      <th>total_bal_il</th>\n",
       "      <td>999</td>\n",
       "      <td>100.000000</td>\n",
       "    </tr>\n",
       "    <tr>\n",
       "      <th>mths_since_last_major_derog</th>\n",
       "      <td>999</td>\n",
       "      <td>100.000000</td>\n",
       "    </tr>\n",
       "    <tr>\n",
       "      <th>annual_inc_joint</th>\n",
       "      <td>999</td>\n",
       "      <td>100.000000</td>\n",
       "    </tr>\n",
       "    <tr>\n",
       "      <th>dti_joint</th>\n",
       "      <td>999</td>\n",
       "      <td>100.000000</td>\n",
       "    </tr>\n",
       "    <tr>\n",
       "      <th>verification_status_joint</th>\n",
       "      <td>999</td>\n",
       "      <td>100.000000</td>\n",
       "    </tr>\n",
       "    <tr>\n",
       "      <th>tot_coll_amt</th>\n",
       "      <td>999</td>\n",
       "      <td>100.000000</td>\n",
       "    </tr>\n",
       "    <tr>\n",
       "      <th>tot_cur_bal</th>\n",
       "      <td>999</td>\n",
       "      <td>100.000000</td>\n",
       "    </tr>\n",
       "    <tr>\n",
       "      <th>open_il_6m</th>\n",
       "      <td>999</td>\n",
       "      <td>100.000000</td>\n",
       "    </tr>\n",
       "    <tr>\n",
       "      <th>open_il_12m</th>\n",
       "      <td>999</td>\n",
       "      <td>100.000000</td>\n",
       "    </tr>\n",
       "    <tr>\n",
       "      <th>open_il_24m</th>\n",
       "      <td>999</td>\n",
       "      <td>100.000000</td>\n",
       "    </tr>\n",
       "    <tr>\n",
       "      <th>mths_since_rcnt_il</th>\n",
       "      <td>999</td>\n",
       "      <td>100.000000</td>\n",
       "    </tr>\n",
       "    <tr>\n",
       "      <th>open_acc_6m</th>\n",
       "      <td>999</td>\n",
       "      <td>100.000000</td>\n",
       "    </tr>\n",
       "    <tr>\n",
       "      <th>il_util</th>\n",
       "      <td>999</td>\n",
       "      <td>100.000000</td>\n",
       "    </tr>\n",
       "    <tr>\n",
       "      <th>all_util</th>\n",
       "      <td>999</td>\n",
       "      <td>100.000000</td>\n",
       "    </tr>\n",
       "    <tr>\n",
       "      <th>total_cu_tl</th>\n",
       "      <td>999</td>\n",
       "      <td>100.000000</td>\n",
       "    </tr>\n",
       "    <tr>\n",
       "      <th>inq_fi</th>\n",
       "      <td>999</td>\n",
       "      <td>100.000000</td>\n",
       "    </tr>\n",
       "    <tr>\n",
       "      <th>open_rv_12m</th>\n",
       "      <td>999</td>\n",
       "      <td>100.000000</td>\n",
       "    </tr>\n",
       "    <tr>\n",
       "      <th>total_rev_hi_lim</th>\n",
       "      <td>999</td>\n",
       "      <td>100.000000</td>\n",
       "    </tr>\n",
       "    <tr>\n",
       "      <th>open_rv_24m</th>\n",
       "      <td>999</td>\n",
       "      <td>100.000000</td>\n",
       "    </tr>\n",
       "    <tr>\n",
       "      <th>max_bal_bc</th>\n",
       "      <td>999</td>\n",
       "      <td>100.000000</td>\n",
       "    </tr>\n",
       "    <tr>\n",
       "      <th>mths_since_last_record</th>\n",
       "      <td>979</td>\n",
       "      <td>97.997998</td>\n",
       "    </tr>\n",
       "    <tr>\n",
       "      <th>next_pymnt_d</th>\n",
       "      <td>905</td>\n",
       "      <td>90.590591</td>\n",
       "    </tr>\n",
       "    <tr>\n",
       "      <th>mths_since_last_delinq</th>\n",
       "      <td>774</td>\n",
       "      <td>77.477477</td>\n",
       "    </tr>\n",
       "    <tr>\n",
       "      <th>desc</th>\n",
       "      <td>432</td>\n",
       "      <td>43.243243</td>\n",
       "    </tr>\n",
       "    <tr>\n",
       "      <th>emp_title</th>\n",
       "      <td>51</td>\n",
       "      <td>5.105105</td>\n",
       "    </tr>\n",
       "    <tr>\n",
       "      <th>emp_length</th>\n",
       "      <td>17</td>\n",
       "      <td>1.701702</td>\n",
       "    </tr>\n",
       "    <tr>\n",
       "      <th>last_pymnt_d</th>\n",
       "      <td>1</td>\n",
       "      <td>0.100100</td>\n",
       "    </tr>\n",
       "  </tbody>\n",
       "</table>\n",
       "</div>"
      ],
      "text/plain": [
       "                             Total     Percent\n",
       "inq_last_12m                   999  100.000000\n",
       "total_bal_il                   999  100.000000\n",
       "mths_since_last_major_derog    999  100.000000\n",
       "annual_inc_joint               999  100.000000\n",
       "dti_joint                      999  100.000000\n",
       "verification_status_joint      999  100.000000\n",
       "tot_coll_amt                   999  100.000000\n",
       "tot_cur_bal                    999  100.000000\n",
       "open_il_6m                     999  100.000000\n",
       "open_il_12m                    999  100.000000\n",
       "open_il_24m                    999  100.000000\n",
       "mths_since_rcnt_il             999  100.000000\n",
       "open_acc_6m                    999  100.000000\n",
       "il_util                        999  100.000000\n",
       "all_util                       999  100.000000\n",
       "total_cu_tl                    999  100.000000\n",
       "inq_fi                         999  100.000000\n",
       "open_rv_12m                    999  100.000000\n",
       "total_rev_hi_lim               999  100.000000\n",
       "open_rv_24m                    999  100.000000\n",
       "max_bal_bc                     999  100.000000\n",
       "mths_since_last_record         979   97.997998\n",
       "next_pymnt_d                   905   90.590591\n",
       "mths_since_last_delinq         774   77.477477\n",
       "desc                           432   43.243243\n",
       "emp_title                       51    5.105105\n",
       "emp_length                      17    1.701702\n",
       "last_pymnt_d                     1    0.100100"
      ]
     },
     "execution_count": 4,
     "metadata": {},
     "output_type": "execute_result"
    },
    {
     "data": {
      "image/png": "[encoded data removed]",
      "text/plain": [
       "<Figure size 576x432 with 1 Axes>"
      ]
     },
     "metadata": {
      "needs_background": "light"
     },
     "output_type": "display_data"
    }
   ],
   "source": [
    "#Looking at the missing data\n",
    "\n",
    "def missingdata(data):\n",
    "    total = data.isnull().sum().sort_values(ascending = False)\n",
    "    percent = (data.isnull().sum()/data.isnull().count()*100).sort_values(ascending = False)\n",
    "    ms=pd.concat([total, percent], axis=1, keys=['Total', 'Percent'])\n",
    "    ms= ms[ms[\"Percent\"] > 0]\n",
    "    f,ax =plt.subplots(figsize=(8,6))\n",
    "    plt.xticks(rotation='90')\n",
    "    fig=sns.barplot(ms.index, ms[\"Percent\"],color=\"green\",alpha=0.8)\n",
    "    plt.xlabel('Features', fontsize=15)\n",
    "    plt.ylabel('Percent of missing values', fontsize=15)\n",
    "    plt.title('Percent missing data by feature', fontsize=15)\n",
    "    return ms\n",
    "missingdata(DF)"
   ]
  },
  {
   "cell_type": "code",
   "execution_count": 5,
   "id": "d3fb2ce7-8f96-45b8-bfd3-63825a2495fd",
   "metadata": {},
   "outputs": [],
   "source": [
    "missing_columns=['inq_last_12m', 'total_bal_il', 'mths_since_last_major_derog', 'annual_inc_joint', 'dti_joint', 'verification_status_joint',\n",
    "       'tot_coll_amt', 'tot_cur_bal', 'open_acc_6m',\n",
    "       'open_il_6m', 'open_il_12m', 'open_il_24m', 'mths_since_rcnt_il', 'open_acc_6m', 'il_util', 'all_util', 'total_cu_tl',\n",
    "       'inq_fi', 'open_rv_12m', 'total_rev_hi_lim', 'open_rv_24m', 'max_bal_bc']\n",
    "DF.drop(list(missing_columns), axis = 1, inplace=True)"
   ]
  },
  {
   "cell_type": "code",
   "execution_count": 6,
   "id": "0b484082-2ac6-4a3f-adf9-ff0a5a77974b",
   "metadata": {},
   "outputs": [],
   "source": [
    "#DF.nunique()\n",
    "uniques = ['pymnt_plan', 'initial_list_status', 'collections_12_mths_ex_med', 'policy_code',\n",
    "           'application_type', 'acc_now_delinq']\n",
    "DF.drop(list(uniques), axis = 1, inplace=True)"
   ]
  },
  {
   "cell_type": "code",
   "execution_count": 7,
   "id": "6c5d51d6-d3da-49ba-89d9-1aa110a4c214",
   "metadata": {},
   "outputs": [],
   "source": [
    "df = DF.drop(['next_pymnt_d', 'desc', 'id', 'member_id'], axis = 1)"
   ]
  },
  {
   "cell_type": "code",
   "execution_count": 8,
   "id": "12de5b13-3887-4795-b3e6-a30a856be374",
   "metadata": {},
   "outputs": [
    {
     "name": "stdout",
     "output_type": "stream",
     "text": [
      "<class 'pandas.core.frame.DataFrame'>\n",
      "RangeIndex: 999 entries, 0 to 998\n",
      "Data columns (total 39 columns):\n",
      " #   Column                   Non-Null Count  Dtype  \n",
      "---  ------                   --------------  -----  \n",
      " 0   CLI                      999 non-null    int64  \n",
      " 1   term                     999 non-null    object \n",
      " 2   int_rate                 999 non-null    float64\n",
      " 3   installment              999 non-null    float64\n",
      " 4   grade                    999 non-null    object \n",
      " 5   sub_grade                999 non-null    object \n",
      " 6   emp_title                948 non-null    object \n",
      " 7   emp_length               982 non-null    object \n",
      " 8   home_ownership           999 non-null    object \n",
      " 9   annual_inc               999 non-null    float64\n",
      " 10  verification_status      999 non-null    object \n",
      " 11  loan_status              999 non-null    object \n",
      " 12  purpose                  999 non-null    object \n",
      " 13  title                    999 non-null    object \n",
      " 14  zip_code                 999 non-null    object \n",
      " 15  addr_state               999 non-null    object \n",
      " 16  dti                      999 non-null    float64\n",
      " 17  delinq_2yrs              999 non-null    int64  \n",
      " 18  earliest_cr_line         999 non-null    object \n",
      " 19  inq_last_6mths           999 non-null    int64  \n",
      " 20  mths_since_last_delinq   225 non-null    float64\n",
      " 21  mths_since_last_record   20 non-null     float64\n",
      " 22  open_acc                 999 non-null    int64  \n",
      " 23  pub_rec                  999 non-null    int64  \n",
      " 24  revol_bal                999 non-null    int64  \n",
      " 25  revol_util               999 non-null    float64\n",
      " 26  total_acc                999 non-null    int64  \n",
      " 27  out_prncp                999 non-null    float64\n",
      " 28  out_prncp_inv            999 non-null    float64\n",
      " 29  total_pymnt              999 non-null    float64\n",
      " 30  total_pymnt_inv          999 non-null    float64\n",
      " 31  total_rec_prncp          999 non-null    float64\n",
      " 32  total_rec_int            999 non-null    float64\n",
      " 33  total_rec_late_fee       999 non-null    float64\n",
      " 34  recoveries               999 non-null    float64\n",
      " 35  collection_recovery_fee  999 non-null    float64\n",
      " 36  last_pymnt_d             998 non-null    object \n",
      " 37  last_pymnt_amnt          999 non-null    float64\n",
      " 38  last_credit_pull_d       999 non-null    object \n",
      "dtypes: float64(17), int64(7), object(15)\n",
      "memory usage: 304.5+ KB\n"
     ]
    },
    {
     "data": {
      "text/plain": [
       "(None,\n",
       " CLI                        250\n",
       " term                         2\n",
       " int_rate                    34\n",
       " installment                720\n",
       " grade                        7\n",
       " sub_grade                   34\n",
       " emp_title                  918\n",
       " emp_length                  11\n",
       " home_ownership               3\n",
       " annual_inc                 283\n",
       " verification_status          3\n",
       " loan_status                  5\n",
       " purpose                     13\n",
       " title                      543\n",
       " zip_code                   378\n",
       " addr_state                  42\n",
       " dti                        823\n",
       " delinq_2yrs                  4\n",
       " earliest_cr_line           268\n",
       " inq_last_6mths               6\n",
       " mths_since_last_delinq      76\n",
       " mths_since_last_record      17\n",
       " open_acc                    24\n",
       " pub_rec                      2\n",
       " revol_bal                  979\n",
       " revol_util                 566\n",
       " total_acc                   54\n",
       " out_prncp                   95\n",
       " out_prncp_inv               95\n",
       " total_pymnt                997\n",
       " total_pymnt_inv            997\n",
       " total_rec_prncp            474\n",
       " total_rec_int              996\n",
       " total_rec_late_fee          36\n",
       " recoveries                 142\n",
       " collection_recovery_fee    127\n",
       " last_pymnt_d                49\n",
       " last_pymnt_amnt            971\n",
       " last_credit_pull_d          47\n",
       " dtype: int64)"
      ]
     },
     "execution_count": 8,
     "metadata": {},
     "output_type": "execute_result"
    }
   ],
   "source": [
    "df.info(), df.nunique()"
   ]
  },
  {
   "cell_type": "code",
   "execution_count": 9,
   "id": "0f259aca-2e23-4a51-8d81-fca14efa1077",
   "metadata": {},
   "outputs": [],
   "source": [
    "df['emp_length'] = df['emp_length'].str.strip(' years')\n",
    "df['emp_length'] = df['emp_length'].str.strip(' year')\n",
    "df['emp_length'][df['emp_length'] == '10+'] = '10'\n",
    "df['emp_length'][df['emp_length'] == '< 1'] = '0'"
   ]
  },
  {
   "cell_type": "code",
   "execution_count": 10,
   "id": "9e994c32-ec8d-4052-a8dd-ee3e38669bcc",
   "metadata": {},
   "outputs": [
    {
     "data": {
      "text/plain": [
       "array(['10', '0', '1', '3', '8', '9', '4', '5', '6', '2', '7', nan],\n",
       "      dtype=object)"
      ]
     },
     "execution_count": 10,
     "metadata": {},
     "output_type": "execute_result"
    }
   ],
   "source": [
    "df['emp_length'].unique()"
   ]
  },
  {
   "cell_type": "code",
   "execution_count": 11,
   "id": "43ae155a-4f8d-4924-a9a3-81744ade0e12",
   "metadata": {},
   "outputs": [],
   "source": [
    "df['mths_since_last_delinq'].fillna(df['mths_since_last_delinq'].mode()[0], inplace = True)\n",
    "df['mths_since_last_record'].fillna(df['mths_since_last_record'].mode()[0], inplace = True)\n",
    "df['last_pymnt_d'].fillna(df['last_pymnt_d'].mode()[0], inplace = True)\n",
    "df['emp_length'].fillna(df['emp_length'].mode()[0], inplace = True)\n",
    "df['emp_length'] = df['emp_length'].astype('int')"
   ]
  },
  {
   "cell_type": "code",
   "execution_count": 12,
   "id": "ff03feb3-e4ec-4698-92f6-05bebbb62458",
   "metadata": {},
   "outputs": [],
   "source": [
    "df.drop(['emp_title', 'sub_grade', 'title', 'addr_state', 'earliest_cr_line', 'last_pymnt_d', 'last_credit_pull_d'], axis = 1, inplace=True)"
   ]
  },
  {
   "cell_type": "code",
   "execution_count": 13,
   "id": "582a3263-3bb6-4063-80e7-c947a095f861",
   "metadata": {},
   "outputs": [],
   "source": [
    "df['zip_code'] = df['zip_code'].str.strip('xx')\n",
    "df['zip_code'] = df['zip_code'].astype('int')"
   ]
  },
  {
   "cell_type": "code",
   "execution_count": 14,
   "id": "92ce1401-f2e0-45c1-900b-ad769324a476",
   "metadata": {},
   "outputs": [],
   "source": [
    "df['loan_status'].value_counts()\n",
    "df[df['loan_status'] == 'Late (31-120 days)']\n",
    "df.drop([749,607], axis = 0, inplace = True)"
   ]
  },
  {
   "cell_type": "code",
   "execution_count": 15,
   "id": "600a5657-b72f-4a57-9af4-06fb9361e0ac",
   "metadata": {},
   "outputs": [],
   "source": [
    "df['loan_status'] = df['loan_status'].str.replace('Fully Paid','1')\n",
    "df['loan_status'] = df['loan_status'].str.replace('Charged Off','0')\n",
    "df['loan_status'] = df['loan_status'].str.replace('Default','0')\n",
    "df['loan_status'] = df['loan_status'].str.replace('Current','1')\n",
    "df['loan_status'] = df['loan_status'].astype('int')"
   ]
  },
  {
   "cell_type": "code",
   "execution_count": 16,
   "id": "aef143bc-032e-44d3-af38-6c0fe7d1ff5f",
   "metadata": {},
   "outputs": [],
   "source": [
    "df.to_csv('grade_Cleaned_data_before_num.csv')"
   ]
  },
  {
   "cell_type": "code",
   "execution_count": null,
   "id": "271f24bb-3b48-44c5-8717-fa3d67025495",
   "metadata": {},
   "outputs": [],
   "source": []
  },
  {
   "cell_type": "code",
   "execution_count": null,
   "id": "8948e71c-b82d-4920-8bc4-594143416d25",
   "metadata": {},
   "outputs": [],
   "source": []
  }
 ],
 "metadata": {
  "kernelspec": {
   "display_name": "Python 3",
   "language": "python",
   "name": "python3"
  },
  "language_info": {
   "codemirror_mode": {
    "name": "ipython",
    "version": 3
   },
   "file_extension": ".py",
   "mimetype": "text/x-python",
   "name": "python",
   "nbconvert_exporter": "python",
   "pygments_lexer": "ipython3",
   "version": "3.8.8"
  }
 },
 "nbformat": 4,
 "nbformat_minor": 5
}
