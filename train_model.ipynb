{
 "cells": [
  {
   "cell_type": "code",
   "execution_count": 224,
   "id": "e0ac3105-f449-400a-9605-12990569945c",
   "metadata": {},
   "outputs": [],
   "source": [
    "import numpy as np\n",
    "import pandas as pd\n",
    "import matplotlib.pyplot as plt\n",
    "import seaborn as sns\n",
    "import warnings\n",
    "warnings.filterwarnings('ignore')\n",
    "%matplotlib inline"
   ]
  },
  {
   "cell_type": "code",
   "execution_count": 225,
   "id": "e3459c4b-34a5-49e3-a9bd-5de532fab668",
   "metadata": {},
   "outputs": [],
   "source": [
    "#dropping the \"sub_grade\" column instead of the \"grade\" produces a huge decreases in MLPClassifier\n",
    "df_cleaned=pd.read_csv('Cleaned_data_before_num.csv')\n",
    "#df_cleaned=pd.read_csv('grade_Cleaned_data_before_num.csv')"
   ]
  },
  {
   "cell_type": "code",
   "execution_count": 226,
   "id": "25be519d-299c-42c3-81d3-dc7ed41a48e5",
   "metadata": {},
   "outputs": [],
   "source": [
    "#try dropping some columns\n",
    "#discoveries:\n",
    "#dropping both the recoveries and collection recovery fee lowers the accuracy of the random forest algorithm\n",
    "#dropping both the total_rec_prncp and CLI lowers the accuracy of the SGDClassifier algorithm (0.97 to 0.86) and the random forest algorthm (0.98 to 0.97)\n",
    "#df_cleaned.drop(['total_rec_prncp', 'CLI'], axis = 1, inplace = True)\n",
    "#df_cleaned.drop(['recoveries', 'collection_recovery_fee'], axis = 1, inplace = True)"
   ]
  },
  {
   "cell_type": "code",
   "execution_count": 227,
   "id": "c4fcf10a-1008-47f4-a0c2-45033b028c02",
   "metadata": {},
   "outputs": [],
   "source": [
    "numerical_df=df_cleaned\n",
    "numerical_df = pd.get_dummies(numerical_df, columns = ['purpose', 'home_ownership','term', 'verification_status', 'sub_grade'],\n",
    "                             prefix=['purpose', 'home','term', 'verification', 'grade'])"
   ]
  },
  {
   "cell_type": "code",
   "execution_count": 228,
   "id": "14ce756a-44ea-4320-b21b-96d90e787aab",
   "metadata": {},
   "outputs": [
    {
     "name": "stdout",
     "output_type": "stream",
     "text": [
      "<class 'pandas.core.frame.DataFrame'>\n",
      "RangeIndex: 997 entries, 0 to 996\n",
      "Data columns (total 83 columns):\n",
      " #   Column                        Non-Null Count  Dtype  \n",
      "---  ------                        --------------  -----  \n",
      " 0   Unnamed: 0                    997 non-null    int64  \n",
      " 1   CLI                           997 non-null    int64  \n",
      " 2   int_rate                      997 non-null    float64\n",
      " 3   installment                   997 non-null    float64\n",
      " 4   emp_length                    997 non-null    int64  \n",
      " 5   annual_inc                    997 non-null    float64\n",
      " 6   loan_status                   997 non-null    int64  \n",
      " 7   zip_code                      997 non-null    int64  \n",
      " 8   dti                           997 non-null    float64\n",
      " 9   delinq_2yrs                   997 non-null    int64  \n",
      " 10  inq_last_6mths                997 non-null    int64  \n",
      " 11  mths_since_last_delinq        997 non-null    float64\n",
      " 12  mths_since_last_record        997 non-null    float64\n",
      " 13  open_acc                      997 non-null    int64  \n",
      " 14  pub_rec                       997 non-null    int64  \n",
      " 15  revol_bal                     997 non-null    int64  \n",
      " 16  revol_util                    997 non-null    float64\n",
      " 17  total_acc                     997 non-null    int64  \n",
      " 18  out_prncp                     997 non-null    float64\n",
      " 19  out_prncp_inv                 997 non-null    float64\n",
      " 20  total_pymnt                   997 non-null    float64\n",
      " 21  total_pymnt_inv               997 non-null    float64\n",
      " 22  total_rec_prncp               997 non-null    float64\n",
      " 23  total_rec_int                 997 non-null    float64\n",
      " 24  total_rec_late_fee            997 non-null    float64\n",
      " 25  recoveries                    997 non-null    float64\n",
      " 26  collection_recovery_fee       997 non-null    float64\n",
      " 27  last_pymnt_amnt               997 non-null    float64\n",
      " 28  purpose_car                   997 non-null    uint8  \n",
      " 29  purpose_credit_card           997 non-null    uint8  \n",
      " 30  purpose_debt_consolidation    997 non-null    uint8  \n",
      " 31  purpose_home_improvement      997 non-null    uint8  \n",
      " 32  purpose_house                 997 non-null    uint8  \n",
      " 33  purpose_major_purchase        997 non-null    uint8  \n",
      " 34  purpose_medical               997 non-null    uint8  \n",
      " 35  purpose_moving                997 non-null    uint8  \n",
      " 36  purpose_other                 997 non-null    uint8  \n",
      " 37  purpose_renewable_energy      997 non-null    uint8  \n",
      " 38  purpose_small_business        997 non-null    uint8  \n",
      " 39  purpose_vacation              997 non-null    uint8  \n",
      " 40  purpose_wedding               997 non-null    uint8  \n",
      " 41  home_MORTGAGE                 997 non-null    uint8  \n",
      " 42  home_OWN                      997 non-null    uint8  \n",
      " 43  home_RENT                     997 non-null    uint8  \n",
      " 44  term_ 36 months               997 non-null    uint8  \n",
      " 45  term_ 60 months               997 non-null    uint8  \n",
      " 46  verification_Not Verified     997 non-null    uint8  \n",
      " 47  verification_Source Verified  997 non-null    uint8  \n",
      " 48  verification_Verified         997 non-null    uint8  \n",
      " 49  grade_A1                      997 non-null    uint8  \n",
      " 50  grade_A2                      997 non-null    uint8  \n",
      " 51  grade_A3                      997 non-null    uint8  \n",
      " 52  grade_A4                      997 non-null    uint8  \n",
      " 53  grade_A5                      997 non-null    uint8  \n",
      " 54  grade_B1                      997 non-null    uint8  \n",
      " 55  grade_B2                      997 non-null    uint8  \n",
      " 56  grade_B3                      997 non-null    uint8  \n",
      " 57  grade_B4                      997 non-null    uint8  \n",
      " 58  grade_B5                      997 non-null    uint8  \n",
      " 59  grade_C1                      997 non-null    uint8  \n",
      " 60  grade_C2                      997 non-null    uint8  \n",
      " 61  grade_C3                      997 non-null    uint8  \n",
      " 62  grade_C4                      997 non-null    uint8  \n",
      " 63  grade_C5                      997 non-null    uint8  \n",
      " 64  grade_D1                      997 non-null    uint8  \n",
      " 65  grade_D2                      997 non-null    uint8  \n",
      " 66  grade_D3                      997 non-null    uint8  \n",
      " 67  grade_D4                      997 non-null    uint8  \n",
      " 68  grade_D5                      997 non-null    uint8  \n",
      " 69  grade_E1                      997 non-null    uint8  \n",
      " 70  grade_E2                      997 non-null    uint8  \n",
      " 71  grade_E3                      997 non-null    uint8  \n",
      " 72  grade_E4                      997 non-null    uint8  \n",
      " 73  grade_E5                      997 non-null    uint8  \n",
      " 74  grade_F1                      997 non-null    uint8  \n",
      " 75  grade_F2                      997 non-null    uint8  \n",
      " 76  grade_F3                      997 non-null    uint8  \n",
      " 77  grade_F4                      997 non-null    uint8  \n",
      " 78  grade_F5                      997 non-null    uint8  \n",
      " 79  grade_G1                      997 non-null    uint8  \n",
      " 80  grade_G2                      997 non-null    uint8  \n",
      " 81  grade_G3                      997 non-null    uint8  \n",
      " 82  grade_G4                      997 non-null    uint8  \n",
      "dtypes: float64(17), int64(11), uint8(55)\n",
      "memory usage: 271.8 KB\n"
     ]
    }
   ],
   "source": [
    "numerical_df.info()"
   ]
  },
  {
   "cell_type": "code",
   "execution_count": null,
   "id": "22a80e2a-d196-40ff-9117-2d455bbb7b4b",
   "metadata": {},
   "outputs": [],
   "source": []
  },
  {
   "cell_type": "code",
   "execution_count": null,
   "id": "bc2de286-d793-40bb-9ed5-8e079e8c3e02",
   "metadata": {},
   "outputs": [],
   "source": []
  },
  {
   "cell_type": "code",
   "execution_count": 229,
   "id": "40103e99-9822-4669-854f-6e3d59fd29b9",
   "metadata": {},
   "outputs": [],
   "source": [
    "from sklearn.model_selection import train_test_split #for split the data\n",
    "from sklearn.metrics import accuracy_score  #for accuracy_score\n",
    "from sklearn.model_selection import KFold #for K-fold cross validation\n",
    "from sklearn.model_selection import cross_val_score #score evaluation\n",
    "from sklearn.model_selection import cross_val_predict #prediction\n",
    "from sklearn.model_selection import GridSearchCV # for Hyper parameter tuning\n",
    "from sklearn.metrics import confusion_matrix #for confusion matrix\n",
    "from sklearn import metrics"
   ]
  },
  {
   "cell_type": "code",
   "execution_count": null,
   "id": "45701ad5-1269-4d1a-b551-847af9190f5d",
   "metadata": {},
   "outputs": [],
   "source": []
  },
  {
   "cell_type": "code",
   "execution_count": 230,
   "id": "85e752da-0cab-4cd5-bb7f-601ecdd3b8c0",
   "metadata": {},
   "outputs": [
    {
     "data": {
      "text/plain": [
       "((697, 82), (300, 82), (697,), (300,))"
      ]
     },
     "execution_count": 230,
     "metadata": {},
     "output_type": "execute_result"
    }
   ],
   "source": [
    "all_features = numerical_df.drop(\"loan_status\",axis=1)\n",
    "Targeted_feature = numerical_df[\"loan_status\"]\n",
    "\n",
    "# total of 6891 records in dataset\n",
    "# Divide the data set into two- 70% for train and 30% for test\n",
    "\n",
    "#X_train,X_test,y_train,y_test = train_test_split(all_features,Targeted_feature,test_size=0.3)  \n",
    "X_train,X_test,y_train,y_test = train_test_split(all_features,Targeted_feature,test_size=0.3,random_state=42) \n",
    "\n",
    "# Check the train test data set shape\n",
    "X_train.shape,X_test.shape,y_train.shape,y_test.shape"
   ]
  },
  {
   "cell_type": "code",
   "execution_count": 231,
   "id": "a01d5bf0-2d1f-4ba4-9412-6508861de482",
   "metadata": {},
   "outputs": [
    {
     "data": {
      "text/plain": [
       "LogisticRegression()"
      ]
     },
     "execution_count": 231,
     "metadata": {},
     "output_type": "execute_result"
    }
   ],
   "source": [
    "#very stable\n",
    "from sklearn.linear_model import LogisticRegression\n",
    "\n",
    "logreg = LogisticRegression()\n",
    "logreg.fit(X_train, y_train)"
   ]
  },
  {
   "cell_type": "code",
   "execution_count": 232,
   "id": "b431434b-355f-4736-b6fe-48f59e4c8c12",
   "metadata": {},
   "outputs": [
    {
     "name": "stdout",
     "output_type": "stream",
     "text": [
      "--------------The Accuracy of the model----------------------------\n",
      "Accuracy of logistic regression classifier on test set: 0.9933\n"
     ]
    },
    {
     "data": {
      "text/plain": [
       "Text(0.5, 1.05, 'Confusion_matrix')"
      ]
     },
     "execution_count": 232,
     "metadata": {},
     "output_type": "execute_result"
    },
    {
     "data": {
      "image/png": "[encoded data removed]",
      "text/plain": [
       "<Figure size 432x288 with 2 Axes>"
      ]
     },
     "metadata": {
      "needs_background": "light"
     },
     "output_type": "display_data"
    }
   ],
   "source": [
    "#predict the model output with test data\n",
    "y_pred = logreg.predict(X_test)\n",
    "\n",
    "print('--------------The Accuracy of the model----------------------------')\n",
    "print('Accuracy of logistic regression classifier on test set: {:.4f}'.format(logreg.score(X_test, y_test)))\n",
    "\n",
    "sns.heatmap(confusion_matrix(y_test,y_pred),annot=True,fmt='3.0f',cmap=\"summer\")\n",
    "plt.title('Confusion_matrix', y=1.05, size=15)"
   ]
  },
  {
   "cell_type": "code",
   "execution_count": 233,
   "id": "41e4bab5-4bef-4cfa-8a71-82ec7fb6c061",
   "metadata": {},
   "outputs": [
    {
     "data": {
      "text/plain": [
       "RandomForestClassifier()"
      ]
     },
     "execution_count": 233,
     "metadata": {},
     "output_type": "execute_result"
    }
   ],
   "source": [
    "#not that stable but still stable\n",
    "from sklearn.ensemble import RandomForestClassifier\n",
    "RanFor = RandomForestClassifier()\n",
    "RanFor.fit(X_train,y_train)"
   ]
  },
  {
   "cell_type": "code",
   "execution_count": 234,
   "id": "8d249140-5844-4b15-94a6-04bc3e8e8206",
   "metadata": {},
   "outputs": [
    {
     "name": "stdout",
     "output_type": "stream",
     "text": [
      "--------------The Accuracy of the model----------------------------\n",
      "Accuracy of random forest on test set: 0.9900\n"
     ]
    }
   ],
   "source": [
    "print('--------------The Accuracy of the model----------------------------')\n",
    "print('Accuracy of random forest on test set: {:.4f}'.format(RanFor.score(X_test, y_test)))"
   ]
  },
  {
   "cell_type": "code",
   "execution_count": 235,
   "id": "e5e1c6e2-e7c5-4fb7-889f-dc988599424d",
   "metadata": {},
   "outputs": [
    {
     "data": {
      "text/plain": [
       "SGDClassifier(loss='modified_huber', max_iter=100)"
      ]
     },
     "execution_count": 235,
     "metadata": {},
     "output_type": "execute_result"
    }
   ],
   "source": [
    "#this is kinda unstable: first time 0.98, then 0.94, then 0.99 and 0.96\n",
    "from sklearn.linear_model import SGDClassifier\n",
    "clf = SGDClassifier(loss=\"modified_huber\", penalty=\"l2\", max_iter=100)\n",
    "clf.fit(X_train, y_train)"
   ]
  },
  {
   "cell_type": "code",
   "execution_count": 236,
   "id": "16bfd9d3-c2e3-4dd6-925e-7f5fb07499fa",
   "metadata": {},
   "outputs": [
    {
     "name": "stdout",
     "output_type": "stream",
     "text": [
      "--------------The Accuracy of the model----------------------------\n",
      "Accuracy of SGDClassifier on test set: 0.9867\n"
     ]
    }
   ],
   "source": [
    "print('--------------The Accuracy of the model----------------------------')\n",
    "print('Accuracy of SGDClassifier on test set: {:.4f}'.format(clf.score(X_test, y_test)))"
   ]
  },
  {
   "cell_type": "code",
   "execution_count": 237,
   "id": "fd340bda-4654-4cd7-988e-a70b2f2770f6",
   "metadata": {},
   "outputs": [
    {
     "data": {
      "text/plain": [
       "MLPClassifier(alpha=1e-05, hidden_layer_sizes=(5, 2), random_state=1,\n",
       "              solver='lbfgs')"
      ]
     },
     "execution_count": 237,
     "metadata": {},
     "output_type": "execute_result"
    }
   ],
   "source": [
    "#not so good (accuracy of 0.81) but very stable\n",
    "from sklearn.neural_network import MLPClassifier\n",
    "clf2 = MLPClassifier(solver='lbfgs', alpha=1e-5,\n",
    "                     hidden_layer_sizes=(5, 2), random_state=1)\n",
    "clf2.fit(X_train, y_train)"
   ]
  },
  {
   "cell_type": "code",
   "execution_count": 238,
   "id": "722baf51-0421-42a6-b2dd-99d498438b30",
   "metadata": {},
   "outputs": [
    {
     "name": "stdout",
     "output_type": "stream",
     "text": [
      "--------------The Accuracy of the model----------------------------\n",
      "Accuracy of MLPClassifier on test set: 0.8133\n"
     ]
    }
   ],
   "source": [
    "print('--------------The Accuracy of the model----------------------------')\n",
    "print('Accuracy of MLPClassifier on test set: {:.4f}'.format(clf2.score(X_test, y_test)))"
   ]
  },
  {
   "cell_type": "code",
   "execution_count": null,
   "id": "08b71724-f678-4079-b60b-1e7d1825ad87",
   "metadata": {},
   "outputs": [],
   "source": []
  },
  {
   "cell_type": "code",
   "execution_count": null,
   "id": "b32434cc-9bc8-4872-bf4a-2914552e5557",
   "metadata": {},
   "outputs": [],
   "source": []
  },
  {
   "cell_type": "code",
   "execution_count": null,
   "id": "ac9ee889-ae2f-43ba-8456-a096327d7720",
   "metadata": {},
   "outputs": [],
   "source": []
  }
 ],
 "metadata": {
  "kernelspec": {
   "display_name": "Python 3",
   "language": "python",
   "name": "python3"
  },
  "language_info": {
   "codemirror_mode": {
    "name": "ipython",
    "version": 3
   },
   "file_extension": ".py",
   "mimetype": "text/x-python",
   "name": "python",
   "nbconvert_exporter": "python",
   "pygments_lexer": "ipython3",
   "version": "3.8.8"
  }
 },
 "nbformat": 4,
 "nbformat_minor": 5
}
