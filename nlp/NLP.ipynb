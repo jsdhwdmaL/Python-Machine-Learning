{
 "cells": [
  {
   "cell_type": "code",
   "execution_count": 1,
   "id": "bb5a6562-0827-468a-b7f9-d46db5511b56",
   "metadata": {},
   "outputs": [],
   "source": [
    "import pyprind\n",
    "import pandas as pd\n",
    "import numpy as np\n",
    "import os\n",
    "import nltk"
   ]
  },
  {
   "cell_type": "code",
   "execution_count": 2,
   "id": "2d8d95ec-ce1d-47cc-818b-29940527fbce",
   "metadata": {},
   "outputs": [],
   "source": [
    "# the Twitter message data is stored TWT Data1 CSV file and loaded to a dataframe df   (saved as UTF)\n",
    "df=pd.read_csv('/Users/liliyang/Desktop/Columbia Classes/Big Data/Datasets/TWT Data1.csv')"
   ]
  },
  {
   "cell_type": "code",
   "execution_count": 3,
   "id": "791b1f3b-5985-4796-b176-fd0752e68762",
   "metadata": {},
   "outputs": [
    {
     "data": {
      "text/html": [
       "<div>\n",
       "<style scoped>\n",
       "    .dataframe tbody tr th:only-of-type {\n",
       "        vertical-align: middle;\n",
       "    }\n",
       "\n",
       "    .dataframe tbody tr th {\n",
       "        vertical-align: top;\n",
       "    }\n",
       "\n",
       "    .dataframe thead th {\n",
       "        text-align: right;\n",
       "    }\n",
       "</style>\n",
       "<table border=\"1\" class=\"dataframe\">\n",
       "  <thead>\n",
       "    <tr style=\"text-align: right;\">\n",
       "      <th></th>\n",
       "      <th>Person ID</th>\n",
       "      <th>Message</th>\n",
       "      <th>Sentiment</th>\n",
       "    </tr>\n",
       "  </thead>\n",
       "  <tbody>\n",
       "    <tr>\n",
       "      <th>0</th>\n",
       "      <td>1</td>\n",
       "      <td>I followed those and was not offered to speak ...</td>\n",
       "      <td>Neutral</td>\n",
       "    </tr>\n",
       "    <tr>\n",
       "      <th>1</th>\n",
       "      <td>2</td>\n",
       "      <td>Hi, I paid my payment 2 days ago and would be ...</td>\n",
       "      <td>Negative</td>\n",
       "    </tr>\n",
       "    <tr>\n",
       "      <th>2</th>\n",
       "      <td>3</td>\n",
       "      <td>I just gotta let the world know. @CreditOneBan...</td>\n",
       "      <td>Negative</td>\n",
       "    </tr>\n",
       "    <tr>\n",
       "      <th>3</th>\n",
       "      <td>4</td>\n",
       "      <td>@NASCARSW42 @KyleLarsonRacin @CreditOneBank @c...</td>\n",
       "      <td>Positive</td>\n",
       "    </tr>\n",
       "    <tr>\n",
       "      <th>4</th>\n",
       "      <td>5</td>\n",
       "      <td>@NASCARSW42 @kyleLarsonRacin @CreditOneBank @c...</td>\n",
       "      <td>Negative</td>\n",
       "    </tr>\n",
       "    <tr>\n",
       "      <th>5</th>\n",
       "      <td>6</td>\n",
       "      <td>Checkered Flag! @JoshParker81 brings the No.42...</td>\n",
       "      <td>Positive</td>\n",
       "    </tr>\n",
       "    <tr>\n",
       "      <th>6</th>\n",
       "      <td>7</td>\n",
       "      <td>@NASCARSW42 @KyleLarsonRacin @CreditoneBgnk @c...</td>\n",
       "      <td>Neutral</td>\n",
       "    </tr>\n",
       "    <tr>\n",
       "      <th>7</th>\n",
       "      <td>8</td>\n",
       "      <td>I called to complain about my card, i tried to...</td>\n",
       "      <td>Negative</td>\n",
       "    </tr>\n",
       "    <tr>\n",
       "      <th>8</th>\n",
       "      <td>9</td>\n",
       "      <td>ch@CocaColaRacing @CreditOneBank @NASCAR</td>\n",
       "      <td>Neutral</td>\n",
       "    </tr>\n",
       "    <tr>\n",
       "      <th>9</th>\n",
       "      <td>10</td>\n",
       "      <td>https: //twitter.com/JohnPaysor/status/1159533...</td>\n",
       "      <td>Neutral</td>\n",
       "    </tr>\n",
       "  </tbody>\n",
       "</table>\n",
       "</div>"
      ],
      "text/plain": [
       "   Person ID                                            Message Sentiment\n",
       "0          1  I followed those and was not offered to speak ...   Neutral\n",
       "1          2  Hi, I paid my payment 2 days ago and would be ...  Negative\n",
       "2          3  I just gotta let the world know. @CreditOneBan...  Negative\n",
       "3          4  @NASCARSW42 @KyleLarsonRacin @CreditOneBank @c...  Positive\n",
       "4          5  @NASCARSW42 @kyleLarsonRacin @CreditOneBank @c...  Negative\n",
       "5          6  Checkered Flag! @JoshParker81 brings the No.42...  Positive\n",
       "6          7  @NASCARSW42 @KyleLarsonRacin @CreditoneBgnk @c...   Neutral\n",
       "7          8  I called to complain about my card, i tried to...  Negative\n",
       "8          9           ch@CocaColaRacing @CreditOneBank @NASCAR   Neutral\n",
       "9         10  https: //twitter.com/JohnPaysor/status/1159533...   Neutral"
      ]
     },
     "execution_count": 3,
     "metadata": {},
     "output_type": "execute_result"
    }
   ],
   "source": [
    "df.head(10)"
   ]
  },
  {
   "cell_type": "code",
   "execution_count": 4,
   "id": "b04c7830-e598-4ffa-83e0-982d5711b2c2",
   "metadata": {},
   "outputs": [
    {
     "data": {
      "text/plain": [
       "Person ID     int64\n",
       "Message      object\n",
       "Sentiment    object\n",
       "dtype: object"
      ]
     },
     "execution_count": 4,
     "metadata": {},
     "output_type": "execute_result"
    }
   ],
   "source": [
    "df.dtypes"
   ]
  },
  {
   "cell_type": "code",
   "execution_count": 5,
   "id": "6e856a56-8e0d-4ee0-9312-4697b9c796d0",
   "metadata": {},
   "outputs": [
    {
     "data": {
      "text/plain": [
       "311"
      ]
     },
     "execution_count": 5,
     "metadata": {},
     "output_type": "execute_result"
    }
   ],
   "source": [
    "len(df['Message'])"
   ]
  },
  {
   "cell_type": "code",
   "execution_count": 6,
   "id": "3977cea5-6baf-48f6-b4c6-42affda7a49e",
   "metadata": {},
   "outputs": [
    {
     "data": {
      "text/plain": [
       "Person ID    0\n",
       "Message      0\n",
       "Sentiment    0\n",
       "dtype: int64"
      ]
     },
     "execution_count": 6,
     "metadata": {},
     "output_type": "execute_result"
    }
   ],
   "source": [
    "df.isnull().sum()"
   ]
  },
  {
   "cell_type": "code",
   "execution_count": 7,
   "id": "c23aaec2-4b93-48b4-8fd3-a7cdaa33da67",
   "metadata": {},
   "outputs": [
    {
     "data": {
      "text/plain": [
       "\"@CreditOneBank My card still hasn't shown up in the mail, it's been 9 days or so since being approved\""
      ]
     },
     "execution_count": 7,
     "metadata": {},
     "output_type": "execute_result"
    }
   ],
   "source": [
    "df.loc[10, 'Message'][0:]"
   ]
  },
  {
   "cell_type": "code",
   "execution_count": null,
   "id": "010a0245-4b3c-4372-b143-b72b61543491",
   "metadata": {},
   "outputs": [],
   "source": []
  },
  {
   "cell_type": "code",
   "execution_count": null,
   "id": "c6f952cd-c149-49e4-9168-185b155eb7e1",
   "metadata": {},
   "outputs": [],
   "source": []
  },
  {
   "cell_type": "code",
   "execution_count": 8,
   "id": "e43b6b2a-69e8-43f5-a440-4faa2cf0ba47",
   "metadata": {},
   "outputs": [],
   "source": [
    "#remove unknown characters and convert capital letters into lowercase\n",
    "import re\n",
    "def preprocessor(text):\n",
    "    text = re.sub('<[^>]*>', '', text)\n",
    "    emoticons = re.findall('(?::|;|=)(?:-)?(?:\\)|\\(|D|P)',\n",
    "                           text)\n",
    "    text = (re.sub('[\\W]+', ' ', text.lower()) +\n",
    "            ' '.join(emoticons).replace('-', ''))\n",
    "    text = text.replace('â', '')\n",
    "\n",
    "    return text"
   ]
  },
  {
   "cell_type": "code",
   "execution_count": 9,
   "id": "00b0a67e-97ca-43d9-8453-00ef3b6f9940",
   "metadata": {},
   "outputs": [
    {
     "data": {
      "text/plain": [
       "' creditonebank my card still hasn t shown up in the mail it s been 9 days or so since being approved'"
      ]
     },
     "execution_count": 9,
     "metadata": {},
     "output_type": "execute_result"
    }
   ],
   "source": [
    "preprocessor(df.loc[10, 'Message'][0:])"
   ]
  },
  {
   "cell_type": "code",
   "execution_count": 10,
   "id": "360b99da-f47e-4f49-a708-ff5370ee638c",
   "metadata": {},
   "outputs": [],
   "source": [
    "df['Message'] = df['Message'].apply(preprocessor)"
   ]
  },
  {
   "cell_type": "code",
   "execution_count": 11,
   "id": "d8e68b1e-f799-44b5-b849-42587a4bbad8",
   "metadata": {},
   "outputs": [
    {
     "name": "stdout",
     "output_type": "stream",
     "text": [
      "10     creditonebank my card still hasn t shown up i...\n",
      "11       try calling me again didn t not recognize the \n",
      "12    hi my card still hasn t shown up in the mail i...\n",
      "13                                   creditonebank sent\n",
      "14    thank you for your help the explanation made t...\n",
      "15     creditonebank your website needs to get it to...\n",
      "16     cards2p kylelarsonracin creditonebank cgrteam...\n",
      "17         how do i speak directly to a representative \n",
      "18                 i want to make a out of u s purchase\n",
      "19    i called and the automated system doesn t give...\n",
      "20    id like to speak directly to a representative ...\n",
      "21    i just received a mail today saying i was pre ...\n",
      "22    i tried calling and there s no option to talk ...\n",
      "23                              everything is automated\n",
      "24    hi i received a letter requesting additional i...\n",
      "25    hi i m wondering why the available amount on m...\n",
      "26              creditonebank https twitter com cp24 st\n",
      "27    hi i want to deactivate my credit one card asa...\n",
      "28    thanks i didn t want to discuss the account i ...\n",
      "29    i did not see this since online i saw it range...\n",
      "Name: Message, dtype: object\n"
     ]
    }
   ],
   "source": [
    "print(df['Message'][10:30])"
   ]
  },
  {
   "cell_type": "code",
   "execution_count": null,
   "id": "969dbcc0-7e1d-4643-85de-44760b9894e8",
   "metadata": {},
   "outputs": [],
   "source": []
  },
  {
   "cell_type": "code",
   "execution_count": 12,
   "id": "adc1e02a-ffa7-4a2c-ab09-40bd459423fe",
   "metadata": {},
   "outputs": [],
   "source": [
    "#Use NLTK library to do tokenization"
   ]
  },
  {
   "cell_type": "code",
   "execution_count": 13,
   "id": "d4f5d258-2a15-45da-8664-915215fdd004",
   "metadata": {},
   "outputs": [],
   "source": [
    "from nltk.stem.porter import PorterStemmer\n",
    "\n",
    "porter = PorterStemmer()\n",
    "\n",
    "def tokenizer(text):\n",
    "    return text.split()\n",
    "\n",
    "\n",
    "def tokenizer_porter(text):\n",
    "    return [porter.stem(word) for word in text.split()]"
   ]
  },
  {
   "cell_type": "code",
   "execution_count": 14,
   "id": "2f62b150-57f6-49a3-bc78-f8d7428509e7",
   "metadata": {},
   "outputs": [
    {
     "data": {
      "text/plain": [
       "['creditonebank',\n",
       " 'my',\n",
       " 'card',\n",
       " 'still',\n",
       " 'hasn',\n",
       " 't',\n",
       " 'shown',\n",
       " 'up',\n",
       " 'in',\n",
       " 'the',\n",
       " 'mail',\n",
       " 'it',\n",
       " 's',\n",
       " 'been',\n",
       " '9',\n",
       " 'days',\n",
       " 'or',\n",
       " 'so',\n",
       " 'since',\n",
       " 'being',\n",
       " 'approved']"
      ]
     },
     "execution_count": 14,
     "metadata": {},
     "output_type": "execute_result"
    }
   ],
   "source": [
    "tokenizer('creditonebank my card still hasn t shown up in the mail it s been 9 days or so since being approved')"
   ]
  },
  {
   "cell_type": "code",
   "execution_count": 15,
   "id": "de7ba87c-c602-46e1-a480-6d98e1867d8e",
   "metadata": {},
   "outputs": [
    {
     "data": {
      "text/plain": [
       "['creditonebank',\n",
       " 'card',\n",
       " 'still',\n",
       " 'shown',\n",
       " 'mail',\n",
       " '9',\n",
       " 'days',\n",
       " 'since',\n",
       " 'approved']"
      ]
     },
     "execution_count": 15,
     "metadata": {},
     "output_type": "execute_result"
    }
   ],
   "source": [
    "from nltk.corpus import stopwords\n",
    "\n",
    "stop = stopwords.words('english')\n",
    "[w for w in tokenizer('creditonebank my card still hasn t shown up in the mail it s been 9 days or so since being approved')[0:]\n",
    "if w not in stop]"
   ]
  },
  {
   "cell_type": "code",
   "execution_count": 16,
   "id": "05571cc0-dbf0-4c57-952d-5f1d3322f2e1",
   "metadata": {},
   "outputs": [],
   "source": [
    "#count the tokens in every sentence\n",
    "import numpy as np\n",
    "from sklearn.feature_extraction.text import CountVectorizer\n",
    "\n",
    "count = CountVectorizer()\n",
    "docs = np.array(df['Message'])\n",
    "bag = count.fit_transform(docs)"
   ]
  },
  {
   "cell_type": "code",
   "execution_count": 17,
   "id": "d3d9e752-6d76-480b-9f96-a0b3ec01f610",
   "metadata": {},
   "outputs": [
    {
     "data": {
      "text/plain": [
       "(311, 1386)"
      ]
     },
     "execution_count": 17,
     "metadata": {},
     "output_type": "execute_result"
    }
   ],
   "source": [
    "bag.shape"
   ]
  },
  {
   "cell_type": "code",
   "execution_count": 18,
   "id": "03c64244-1e3d-4959-bce3-209921cda682",
   "metadata": {},
   "outputs": [
    {
     "name": "stdout",
     "output_type": "stream",
     "text": [
      "[[0. 0. 0. ... 0. 0. 0.]\n",
      " [0. 0. 0. ... 0. 0. 0.]\n",
      " [0. 0. 0. ... 0. 0. 0.]\n",
      " ...\n",
      " [0. 0. 0. ... 0. 0. 0.]\n",
      " [0. 0. 0. ... 0. 0. 0.]\n",
      " [0. 0. 0. ... 0. 0. 0.]]\n"
     ]
    }
   ],
   "source": [
    "#convert the result to the TF-IDF matrix\n",
    "#goal: apply rate values for tokens depending on how many times they appear\n",
    "from sklearn.feature_extraction.text import TfidfTransformer\n",
    "\n",
    "tfidf = TfidfTransformer(use_idf=True, \n",
    "                         norm='l2', \n",
    "                         smooth_idf=True)\n",
    "print(tfidf.fit_transform(count.fit_transform(docs))\n",
    "      .toarray())"
   ]
  },
  {
   "cell_type": "code",
   "execution_count": 19,
   "id": "8e775adf-b01b-462f-a6f0-5d0232b5996f",
   "metadata": {},
   "outputs": [],
   "source": [
    "X_train = df.loc[:200, 'Message'].values\n",
    "y_train = df.loc[:200, 'Sentiment'].values\n",
    "X_test = df.loc[200:, 'Message'].values\n",
    "y_test = df.loc[200:, 'Sentiment'].values"
   ]
  },
  {
   "cell_type": "code",
   "execution_count": 20,
   "id": "81f536ba-0981-4c07-b8ab-24c4ab8d21d1",
   "metadata": {},
   "outputs": [],
   "source": [
    "from sklearn.pipeline import Pipeline\n",
    "from sklearn.linear_model import LogisticRegression\n",
    "from sklearn.feature_extraction.text import TfidfVectorizer\n",
    "from sklearn.model_selection import GridSearchCV\n",
    "\n",
    "tfidf = TfidfVectorizer(strip_accents=None,\n",
    "                        lowercase=False,\n",
    "                        preprocessor=None)\n",
    "\n",
    "param_grid = [{'vect__ngram_range': [(1, 1)],\n",
    "               'vect__stop_words': [stop, None],\n",
    "               'vect__tokenizer': [tokenizer, tokenizer_porter],\n",
    "               'clf__penalty': ['l1', 'l2'],\n",
    "               'clf__C': [1.0, 10.0, 100.0]},\n",
    "              {'vect__ngram_range': [(1, 1)],\n",
    "               'vect__stop_words': [stop, None],\n",
    "               'vect__tokenizer': [tokenizer, tokenizer_porter],\n",
    "               'vect__use_idf':[False],\n",
    "               'vect__norm':[None],\n",
    "               'clf__penalty': ['l1', 'l2'],\n",
    "               'clf__C': [1.0, 10.0, 100.0]},\n",
    "              ]\n",
    "\n",
    "lr_tfidf = Pipeline([('vect', tfidf),\n",
    "                     ('clf', LogisticRegression(random_state=0))])\n",
    "\n",
    "gs_lr_tfidf = GridSearchCV(lr_tfidf, param_grid,\n",
    "                           scoring='accuracy',\n",
    "                           cv=5,\n",
    "                           verbose=1,\n",
    "                           n_jobs=-1)"
   ]
  },
  {
   "cell_type": "code",
   "execution_count": null,
   "id": "544ea6e8-f91b-4d82-a489-0bec8d272fd5",
   "metadata": {},
   "outputs": [
    {
     "name": "stdout",
     "output_type": "stream",
     "text": [
      "Fitting 5 folds for each of 48 candidates, totalling 240 fits\n"
     ]
    }
   ],
   "source": [
    "gs_lr_tfidf.fit(X_train, y_train)"
   ]
  },
  {
   "cell_type": "code",
   "execution_count": null,
   "id": "4b0502ea-148e-41f3-9148-a21447478da0",
   "metadata": {},
   "outputs": [],
   "source": [
    "print('Best parameter set: %s ' % gs_lr_tfidf.best_params_)\n",
    "print('CV Accuracy: %.3f' % gs_lr_tfidf.best_score_)"
   ]
  },
  {
   "cell_type": "code",
   "execution_count": null,
   "id": "913048dd-57b9-4dff-87e9-89f8e431b0c3",
   "metadata": {},
   "outputs": [],
   "source": [
    "#!pip install wordcloud"
   ]
  },
  {
   "cell_type": "code",
   "execution_count": null,
   "id": "e4d254bc-d8d5-405f-aedf-7d4095fbb393",
   "metadata": {},
   "outputs": [],
   "source": [
    "import matplotlib.pyplot as plt\n",
    "%matplotlib inline\n",
    "\n",
    "import WordCloud, STOPWORDS"
   ]
  },
  {
   "cell_type": "code",
   "execution_count": null,
   "id": "f7f7efe1-cbce-4642-b465-32b1cc0dafd3",
   "metadata": {},
   "outputs": [],
   "source": [
    "combined_text = \" \".join([review for review in df['Message']])"
   ]
  },
  {
   "cell_type": "code",
   "execution_count": null,
   "id": "b6608308-6759-4f7b-97e4-d3875522d59e",
   "metadata": {},
   "outputs": [],
   "source": [
    "# Initialize wordcloud object\n",
    "wc = WordCloud(background_color='white', max_words=50,\n",
    "        # update stopwords to include common words like the, in, was.....\n",
    "        stopwords = STOPWORDS.update(['the','in','was','my','creditonebank','account','hi']))\n",
    "\n",
    "# Generate and plot wordcloud\n",
    "plt.imshow(wc.generate(combined_text))\n",
    "plt.axis('off')\n",
    "plt.show()"
   ]
  },
  {
   "cell_type": "code",
   "execution_count": null,
   "id": "a692fab2-f492-4a69-9d2a-2f8425812114",
   "metadata": {},
   "outputs": [],
   "source": []
  }
 ],
 "metadata": {
  "kernelspec": {
   "display_name": "Python 3",
   "language": "python",
   "name": "python3"
  },
  "language_info": {
   "codemirror_mode": {
    "name": "ipython",
    "version": 3
   },
   "file_extension": ".py",
   "mimetype": "text/x-python",
   "name": "python",
   "nbconvert_exporter": "python",
   "pygments_lexer": "ipython3",
   "version": "3.8.8"
  }
 },
 "nbformat": 4,
 "nbformat_minor": 5
}
